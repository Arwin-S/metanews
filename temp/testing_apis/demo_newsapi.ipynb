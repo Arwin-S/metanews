{
 "cells": [
  {
   "cell_type": "code",
   "execution_count": 1,
   "metadata": {},
   "outputs": [],
   "source": [
    "from newsapi import NewsApiClient"
   ]
  },
  {
   "cell_type": "code",
   "execution_count": 2,
   "metadata": {},
   "outputs": [],
   "source": [
    "# Init\n",
    "newsapi = NewsApiClient(api_key='')"
   ]
  },
  {
   "cell_type": "code",
   "execution_count": 5,
   "metadata": {},
   "outputs": [],
   "source": [
    "# /v2/top-headlines\n",
    "top_headlines = newsapi.get_top_headlines(q='bitcoin',\n",
    "                                        #   sources='bbc-news,the-verge',\n",
    "                                          category='business',\n",
    "                                          language='en',\n",
    "                                          country='us')\n"
   ]
  },
  {
   "cell_type": "code",
   "execution_count": 6,
   "metadata": {},
   "outputs": [
    {
     "name": "stdout",
     "output_type": "stream",
     "text": [
      "{'status': 'ok', 'totalResults': 2, 'articles': [{'source': {'id': None, 'name': 'Coingape'}, 'author': 'Bhushan Akolkar', 'title': 'BTC Price | Bitcoin Shorts Are Piling Up As the BTC Price Shoots Past $30,000 - CoinGape', 'description': \"There's a tough fight currently between the Bitcoin bulls and the bears. If buyers fail to hold $30,000, the BTC price can correct further.\", 'url': 'https://coingape.com/bitcoin-shorts-are-piling-up-as-the-btc-price-shoots-past-30000-whats-next/', 'urlToImage': 'https://coingape.com/wp-content/uploads/2020/12/Bitcoin-BTC-Whales-Short.jpg', 'publishedAt': '2023-10-23T08:03:03Z', 'content': 'The world’s largest cryptocurrency Bitcoin (BTC) continues with its strong rally and is up by another 2.24% moving past $30,000 levels. However, the derivatives data shows that the Bitcoin short posi… [+2268 chars]'}, {'source': {'id': None, 'name': 'Cointelegraph'}, 'author': 'Editorial Staff', 'title': \"NY sues crypto firms, FTX's Nishad faces 75 years in jail, and Grayscale's new BTC filing: Hodler's Digest, Oct. 15-21 - Cointelegraph\", 'description': 'Nishad Singh testifies in Sam Bankman-Fried’s trial; New York sues Gemini, Genesis and Digital Currency Group; and Grayscale files for new spot Bitcoin ETF.', 'url': 'https://cointelegraph.com/magazine/ny-sues-crypto-firms-ftxs-nishad-faces-75-years-in-jail-and-grayscales-new-btc-filing-hodlers-digest-oct-15-21/', 'urlToImage': 'https://cointelegraph.com/magazine/wp-content/uploads/2023/10/oct-21-scaled.jpg', 'publishedAt': '2023-10-21T21:29:51Z', 'content': 'Major cryptocurrency investment firm Grayscale Investments has filed a new application with the U.S. Securities and Exchange Commission for a new spot Bitcoin exchange-traded fund (ETF). The new fili… [+8112 chars]'}]}\n"
     ]
    }
   ],
   "source": [
    "print(top_headlines)"
   ]
  },
  {
   "cell_type": "code",
   "execution_count": null,
   "metadata": {},
   "outputs": [],
   "source": [
    "\n",
    "# /v2/everything\n",
    "all_articles = newsapi.get_everything(q='bitcoin',\n",
    "                                      sources='bbc-news,the-verge',\n",
    "                                      domains='bbc.co.uk,techcrunch.com',\n",
    "                                      from_param='2017-12-01',\n",
    "                                      to='2017-12-12',\n",
    "                                      language='en',\n",
    "                                      sort_by='relevancy',\n",
    "                                      page=2)\n",
    "\n"
   ]
  },
  {
   "cell_type": "code",
   "execution_count": null,
   "metadata": {},
   "outputs": [],
   "source": [
    "# /v2/top-headlines/sources\n",
    "sources = newsapi.get_sources()"
   ]
  }
 ],
 "metadata": {
  "kernelspec": {
   "display_name": "Python 3",
   "language": "python",
   "name": "python3"
  },
  "language_info": {
   "codemirror_mode": {
    "name": "ipython",
    "version": 3
   },
   "file_extension": ".py",
   "mimetype": "text/x-python",
   "name": "python",
   "nbconvert_exporter": "python",
   "pygments_lexer": "ipython3",
   "version": "3.11.5"
  }
 },
 "nbformat": 4,
 "nbformat_minor": 2
}
