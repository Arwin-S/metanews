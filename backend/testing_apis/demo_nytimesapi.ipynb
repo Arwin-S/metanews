{
 "cells": [
  {
   "cell_type": "markdown",
   "metadata": {},
   "source": [
    "API package: https://github.com/michadenheijer/pynytimes\n",
    "Guide: https://dlab.berkeley.edu/news/getting-started-nyt-api"
   ]
  },
  {
   "cell_type": "code",
   "execution_count": 1,
   "metadata": {},
   "outputs": [],
   "source": [
    "from pynytimes import NYTAPI\n",
    "\n",
    "api_key = \"\"\n",
    "\n",
    "nyt = NYTAPI(api_key, parse_dates=True)"
   ]
  },
  {
   "cell_type": "code",
   "execution_count": 2,
   "metadata": {},
   "outputs": [],
   "source": [
    "# API CALL\n",
    "top_stories = nyt.top_stories()"
   ]
  },
  {
   "cell_type": "code",
   "execution_count": 3,
   "metadata": {},
   "outputs": [
    {
     "data": {
      "text/plain": [
       "{'section': 'us',\n",
       " 'subsection': 'politics',\n",
       " 'title': 'U.S. Raises Concerns About Israel’s Plan of Action in Gaza, Officials Say',\n",
       " 'abstract': 'The Pentagon has sent officers to help the Israelis with the challenges of fighting an urban war.',\n",
       " 'url': 'https://www.nytimes.com/2023/10/23/us/politics/israel-us-gaza-invasion.html',\n",
       " 'uri': 'nyt://article/9016c821-ae7c-5619-a5e1-f39cdda2e922',\n",
       " 'byline': 'By Helene Cooper, Adam Entous and Eric Schmitt',\n",
       " 'item_type': 'Article',\n",
       " 'updated_date': datetime.datetime(2023, 10, 23, 20, 4, 6, tzinfo=datetime.timezone(datetime.timedelta(days=-1, seconds=72000))),\n",
       " 'created_date': datetime.datetime(2023, 10, 23, 19, 22, 30, tzinfo=datetime.timezone(datetime.timedelta(days=-1, seconds=72000))),\n",
       " 'published_date': datetime.datetime(2023, 10, 23, 19, 22, 30, tzinfo=datetime.timezone(datetime.timedelta(days=-1, seconds=72000))),\n",
       " 'material_type_facet': '',\n",
       " 'kicker': '',\n",
       " 'des_facet': ['Israel-Gaza War (2023- )',\n",
       "  'Civilian Casualties',\n",
       "  'Defense and Military Forces',\n",
       "  'War and Armed Conflicts',\n",
       "  'International Relations'],\n",
       " 'org_facet': ['Defense Department', 'Hamas'],\n",
       " 'per_facet': ['Austin, Lloyd J III', 'Reed, Jack'],\n",
       " 'geo_facet': ['Gaza Strip', 'Israel'],\n",
       " 'multimedia': [{'url': 'https://static01.nyt.com/images/2023/10/23/multimedia/23dc-military-ktcj/23dc-military-ktcj-superJumbo.jpg',\n",
       "   'format': 'Super Jumbo',\n",
       "   'height': 1365,\n",
       "   'width': 2048,\n",
       "   'type': 'image',\n",
       "   'subtype': 'photo',\n",
       "   'caption': 'U.S. officials have stressed with their Israeli counterparts the need for careful consideration of how they might conduct an invasion of Gaza.',\n",
       "   'copyright': 'Sergey Ponomarev for The New York Times'},\n",
       "  {'url': 'https://static01.nyt.com/images/2023/10/23/multimedia/23dc-military-ktcj/23dc-military-ktcj-threeByTwoSmallAt2X.jpg',\n",
       "   'format': 'threeByTwoSmallAt2X',\n",
       "   'height': 400,\n",
       "   'width': 600,\n",
       "   'type': 'image',\n",
       "   'subtype': 'photo',\n",
       "   'caption': 'U.S. officials have stressed with their Israeli counterparts the need for careful consideration of how they might conduct an invasion of Gaza.',\n",
       "   'copyright': 'Sergey Ponomarev for The New York Times'},\n",
       "  {'url': 'https://static01.nyt.com/images/2023/10/23/multimedia/23dc-military-ktcj/23dc-military-ktcj-thumbLarge.jpg',\n",
       "   'format': 'Large Thumbnail',\n",
       "   'height': 150,\n",
       "   'width': 150,\n",
       "   'type': 'image',\n",
       "   'subtype': 'photo',\n",
       "   'caption': 'U.S. officials have stressed with their Israeli counterparts the need for careful consideration of how they might conduct an invasion of Gaza.',\n",
       "   'copyright': 'Sergey Ponomarev for The New York Times'}],\n",
       " 'short_url': ''}"
      ]
     },
     "execution_count": 3,
     "metadata": {},
     "output_type": "execute_result"
    }
   ],
   "source": [
    "#Grab the first data item in top_stories and view it\n",
    "\n",
    "top_story = top_stories[0]\n",
    "\n",
    "top_story"
   ]
  }
 ],
 "metadata": {
  "kernelspec": {
   "display_name": "Python 3",
   "language": "python",
   "name": "python3"
  },
  "language_info": {
   "codemirror_mode": {
    "name": "ipython",
    "version": 3
   },
   "file_extension": ".py",
   "mimetype": "text/x-python",
   "name": "python",
   "nbconvert_exporter": "python",
   "pygments_lexer": "ipython3",
   "version": "3.11.5"
  }
 },
 "nbformat": 4,
 "nbformat_minor": 2
}
