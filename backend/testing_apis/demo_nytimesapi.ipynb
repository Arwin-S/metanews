{
 "cells": [
  {
   "cell_type": "markdown",
   "metadata": {},
   "source": [
    "API package: https://github.com/michadenheijer/pynytimes\n",
    "\n",
    "Guide: https://dlab.berkeley.edu/news/getting-started-nyt-api"
   ]
  },
  {
   "cell_type": "code",
   "execution_count": 1,
   "metadata": {},
   "outputs": [],
   "source": [
    "from pynytimes import NYTAPI\n",
    "\n",
    "api_key = \"\"\n",
    "\n",
    "nyt = NYTAPI(api_key, parse_dates=True)\n"
   ]
  },
  {
   "cell_type": "code",
   "execution_count": 2,
   "metadata": {},
   "outputs": [],
   "source": [
    "# API CALL\n",
    "top_stories = nyt.top_stories()"
   ]
  },
  {
   "cell_type": "code",
   "execution_count": 3,
   "metadata": {},
   "outputs": [
    {
     "data": {
      "text/plain": [
       "{'section': 'world',\n",
       " 'subsection': 'middleeast',\n",
       " 'title': 'Gaza Goes Dark as Israel Attacks Intensify',\n",
       " 'abstract': 'Two major Palestinian mobile networks, Jawwal and Paltel, said that their phone lines and internet services were down.',\n",
       " 'url': 'https://www.nytimes.com/2023/10/27/world/middleeast/gaza-internet-blackout.html',\n",
       " 'uri': 'nyt://article/62be1c88-f750-528b-9437-eb7d395b45b7',\n",
       " 'byline': 'By Yousur Al-Hlou and Raja Abdulrahim',\n",
       " 'item_type': 'Article',\n",
       " 'updated_date': datetime.datetime(2023, 10, 27, 18, 58, 5, tzinfo=datetime.timezone(datetime.timedelta(days=-1, seconds=72000))),\n",
       " 'created_date': datetime.datetime(2023, 10, 27, 18, 54, 15, tzinfo=datetime.timezone(datetime.timedelta(days=-1, seconds=72000))),\n",
       " 'published_date': datetime.datetime(2023, 10, 27, 18, 54, 15, tzinfo=datetime.timezone(datetime.timedelta(days=-1, seconds=72000))),\n",
       " 'material_type_facet': '',\n",
       " 'kicker': '',\n",
       " 'des_facet': ['Israel-Gaza War (2023- )',\n",
       "  'News and News Media',\n",
       "  'Power Failures and Blackouts'],\n",
       " 'org_facet': [],\n",
       " 'per_facet': [],\n",
       " 'geo_facet': ['Gaza Strip'],\n",
       " 'multimedia': [{'url': 'https://static01.nyt.com/images/2023/10/27/multimedia/27israel-hamas-gaza-blackouts-01-khjb/27israel-hamas-gaza-blackouts-01-khjb-superJumbo.jpg',\n",
       "   'format': 'Super Jumbo',\n",
       "   'height': 1366,\n",
       "   'width': 2048,\n",
       "   'type': 'image',\n",
       "   'subtype': 'photo',\n",
       "   'caption': 'Explosions Friday over the northern Gaza Strip.',\n",
       "   'copyright': 'Abed Khaled/Associated Press'},\n",
       "  {'url': 'https://static01.nyt.com/images/2023/10/27/multimedia/27israel-hamas-gaza-blackouts-01-khjb/27israel-hamas-gaza-blackouts-01-khjb-threeByTwoSmallAt2X.jpg',\n",
       "   'format': 'threeByTwoSmallAt2X',\n",
       "   'height': 400,\n",
       "   'width': 600,\n",
       "   'type': 'image',\n",
       "   'subtype': 'photo',\n",
       "   'caption': 'Explosions Friday over the northern Gaza Strip.',\n",
       "   'copyright': 'Abed Khaled/Associated Press'},\n",
       "  {'url': 'https://static01.nyt.com/images/2023/10/27/multimedia/27israel-hamas-gaza-blackouts-01-khjb/27israel-hamas-gaza-blackouts-01-khjb-thumbLarge.jpg',\n",
       "   'format': 'Large Thumbnail',\n",
       "   'height': 150,\n",
       "   'width': 150,\n",
       "   'type': 'image',\n",
       "   'subtype': 'photo',\n",
       "   'caption': 'Explosions Friday over the northern Gaza Strip.',\n",
       "   'copyright': 'Abed Khaled/Associated Press'}],\n",
       " 'short_url': ''}"
      ]
     },
     "execution_count": 3,
     "metadata": {},
     "output_type": "execute_result"
    }
   ],
   "source": [
    "#Grab the first data item in top_stories and view it\n",
    "\n",
    "top_story = top_stories[0]\n",
    "\n",
    "top_story"
   ]
  },
  {
   "cell_type": "code",
   "execution_count": 7,
   "metadata": {},
   "outputs": [
    {
     "name": "stdout",
     "output_type": "stream",
     "text": [
      "{'title': 'Israel’s Army Is Ready to Invade Gaza. Its Divided Government May Not Be.', 'abstract': 'In the 20 days since Hamas attacked, Israel’s Air Force has pounded Gaza and its troops have gotten into position. But its leaders disagree about what to do next.', 'byline': 'By Patrick Kingsley and Ronen Bergman', 'url': 'https://www.nytimes.com/2023/10/26/world/middleeast/israel-gaza-invasion-delay.html'}\n"
     ]
    }
   ],
   "source": [
    "article = {\n",
    "    \"title\": top_story[\"title\"],\n",
    "    \"abstract\": top_story[\"abstract\"],\n",
    "    \"byline\": top_story[\"byline\"],\n",
    "    \"url\": top_story[\"url\"],\n",
    "}\n",
    "print(article)\n",
    "\n",
    "\n"
   ]
  },
  {
   "cell_type": "code",
   "execution_count": 11,
   "metadata": {},
   "outputs": [
    {
     "name": "stdout",
     "output_type": "stream",
     "text": [
      "['Gaza Goes Dark as Israel Attacks Intensify', 'U.S. Airstrikes Contain Twin Messages to Iran, American Officials Say', 'Portraits of the Dead Emerge From Tragedy in Maine', 'The Woods Can Conceal a Fugitive. But for How Long?', 'What We Know About the Shootings in Maine', 'Sam Bankman-Fried Testifies That He Made ‘Larger Mistakes’ at FTX', 'The Shearing of Sam Bankman-Fried', 'Washington Was Stunned by the New Speaker’s Rise. So Was His District.', '9 Takeaways From Mike Johnson’s First Interview as Speaker', 'Ukraine Aid in Doubt as Johnson Moves to Drop It From Israel Assistance Bill', 'Kanye and Adidas: Money, Misconduct and the Price of Appeasement', 'Inside Kanye West’s Fraught Relationship With Adidas: 7 Takeaways', 'The Good. The Bad. The Ugly. Inside Berlusconi’s Art Collection.', 'Test Your Candy I.Q.', 'A Plan to Defeat Hamas and Avoid a Bloodbath', 'I Might Have Once Favored a Cease-Fire With Hamas, but Not Now', 'Stephen King on Mass Shootings: We’re Out of Things to Say', 'Mike Johnson Is a Right-Wing Fever Dream Come to Life', 'Israel Expands Its Operations in Gaza', 'Biden Hosts China’s Top Diplomat Ahead of Expected Xi Meeting', '3 Trump Family Members Set to Testify at Civil Fraud Trial Next Week', 'Did A.I. Write Product Reviews? Gannett Says No.', 'Michael Bragman, 83, Dies; Led a Failed Legislative Coup in New York', 'Time Celebrates a Hundred People and the City Toasts Elmhurst’s Frontline Workers']\n"
     ]
    }
   ],
   "source": [
    "print([top_story[\"title\"] for top_story in top_stories])"
   ]
  },
  {
   "cell_type": "code",
   "execution_count": 12,
   "metadata": {},
   "outputs": [
    {
     "data": {
      "text/plain": [
       "24"
      ]
     },
     "execution_count": 12,
     "metadata": {},
     "output_type": "execute_result"
    }
   ],
   "source": [
    "len(top_stories)"
   ]
  }
 ],
 "metadata": {
  "kernelspec": {
   "display_name": "Python 3",
   "language": "python",
   "name": "python3"
  },
  "language_info": {
   "codemirror_mode": {
    "name": "ipython",
    "version": 3
   },
   "file_extension": ".py",
   "mimetype": "text/x-python",
   "name": "python",
   "nbconvert_exporter": "python",
   "pygments_lexer": "ipython3",
   "version": "3.11.5"
  }
 },
 "nbformat": 4,
 "nbformat_minor": 2
}
